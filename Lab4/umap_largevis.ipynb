{
 "cells": [
  {
   "cell_type": "code",
   "execution_count": 1,
   "metadata": {
    "ExecuteTime": {
     "end_time": "2020-04-11T16:50:43.663008Z",
     "start_time": "2020-04-11T16:50:42.541867Z"
    }
   },
   "outputs": [],
   "source": [
    "# TRIMAP\n",
    "\n",
    "\n",
    "import umap\n",
    "import sklearn.datasets\n",
    "import pandas as pd\n",
    "import numpy as np\n",
    "import seaborn as sn\n",
    "import matplotlib.pyplot as plt"
   ]
  },
  {
   "cell_type": "markdown",
   "metadata": {},
   "source": [
    "###   t-SNE, UMAP and LargeVis\n",
    "\n",
    "In this and the next notebook we will use manifold learning for data visualization of large data sets (with high dimensionality). In addition to t-SNE, two relatively new methods will be used that are more efficient on large data sets.\n",
    "\n",
    "\n",
    "- UMAP (Uniform Manifold Approximation and Projection) - Install this Python package: https://umap-learn.readthedocs.io/en/latest/index.html. UMAP package is compatible with scikit-learn, making use of the same API and able to be added to sklearn pipelines. UMAP can work as a drop in replacement for t-SNE and other dimension reduction classes from scikit-learn\n",
    "\n",
    "\n",
    "- LargeVis (Visualizing Large-scale and High-dimensional Data) - Many techniques (like t-SNE, UMAP and LargeVis) first compute a similarity structure of the data points and then project them into a low-dimensional space with the structure preserved. These two steps suffer from considerable computational costs Comparing to tSNE, LargeVis significantly reduces the computational cost of the graph construction step and employs a principled probabilistic model for the visualization step, the objective of which can be effectively optimized through asynchronous stochastic gradient descent with a linear time complexity. Download this algorithm repository and follow the installation instructions. https://github.com/lferry007/LargeVis\n"
   ]
  },
  {
   "cell_type": "code",
   "execution_count": 2,
   "metadata": {
    "ExecuteTime": {
     "end_time": "2020-04-11T16:50:46.681280Z",
     "start_time": "2020-04-11T16:50:46.679630Z"
    }
   },
   "outputs": [],
   "source": [
    "from sklearn.manifold import TSNE\n",
    "import umap"
   ]
  },
  {
   "cell_type": "markdown",
   "metadata": {},
   "source": [
    "To get data we use the sklearn.datasets.fetch_openml method, which as the name requires, Fetch dataset from openml by name or dataset id. We will use MNIST and Fashion-MNIST(Zalando's article images). Fashion-MNIST is intended to serve as a direct drop-in replacement for the original MNIST dataset for benchmarking machine learning algorithms. Instead of numbers it contains thumbnails of clothes images."
   ]
  },
  {
   "cell_type": "code",
   "execution_count": null,
   "metadata": {
    "ExecuteTime": {
     "end_time": "2020-04-11T16:51:24.131177Z",
     "start_time": "2020-04-11T16:50:48.841764Z"
    }
   },
   "outputs": [],
   "source": [
    "# mnist = sklearn.datasets.fetch_openml('mnist_784')\n",
    "# fmnist = sklearn.datasets.fetch_openml('Fashion-MNIST')"
   ]
  },
  {
   "cell_type": "markdown",
   "metadata": {},
   "source": [
    "Below are drawings of some samples from mnist and fmnist data sets"
   ]
  },
  {
   "cell_type": "code",
   "execution_count": null,
   "metadata": {
    "ExecuteTime": {
     "end_time": "2020-04-11T16:51:48.804474Z",
     "start_time": "2020-04-11T16:51:48.087614Z"
    }
   },
   "outputs": [],
   "source": [
    "mnist_names = [i for i in range(10)]\n",
    " \n",
    "plt.figure(figsize=(14,10))\n",
    "for i in range(40):\n",
    "    plt.subplot(5, 8, i+1)\n",
    "    plt.xticks([])\n",
    "    plt.yticks([])\n",
    "    plt.grid(False)\n",
    "    plt.imshow(mnist['data'].values[i].reshape((28, 28)), cmap=plt.cm.binary)\n",
    "    plt.xlabel(mnist_names[int(mnist.target[i])])\n",
    "plt.show()"
   ]
  },
  {
   "cell_type": "code",
   "execution_count": null,
   "metadata": {
    "ExecuteTime": {
     "end_time": "2020-04-11T16:51:50.333395Z",
     "start_time": "2020-04-11T16:51:49.609444Z"
    }
   },
   "outputs": [],
   "source": [
    "fmnist_names = ['T-shirt/top', 'Trouser', 'Pullover', 'Dress', 'Coat',\n",
    "               'Sandal', 'Shirt', 'Sneaker', 'Bag', 'Ankle boot']\n",
    " \n",
    "plt.figure(figsize=(14,10))\n",
    "for i in range(40):\n",
    "    plt.subplot(5, 8, i+1)\n",
    "    plt.xticks([])\n",
    "    plt.yticks([])\n",
    "    plt.grid(False)\n",
    "    plt.imshow(fmnist['data'].values[i].reshape((28, 28)), cmap=plt.cm.binary)\n",
    "    plt.xlabel(fmnist_names[int(fmnist.target[i])])\n",
    "plt.show()"
   ]
  },
  {
   "cell_type": "markdown",
   "metadata": {},
   "source": [
    "#### Use t-SNE, UMAP and LargeVis to project mnist and fmnist data sets into a 2-dimensional space. For LargeVis, you need to create a function that saves the data to the required by LargeVis txt file format, and a function that loads the resulting file. Draw charts for all visualizations."
   ]
  },
  {
   "cell_type": "code",
   "execution_count": null,
   "metadata": {},
   "outputs": [],
   "source": [
    "# X_mnist, y_mnist = mnist['data'].values[:500], mnist.target.astype(np.int32)[:500] \n",
    "X_mnist, y_mnist = mnist['data'].values, mnist.target.astype(np.int32) \n",
    "\n",
    "\n",
    "# X_fmnist, y_fmnist = fmnist['data'].values[:500], fmnist.target.astype(np.int32)[:500] \n",
    "X_fmnist, y_fmnist = fmnist['data'].values, fmnist.target.astype(np.int32) \n",
    "\n"
   ]
  },
  {
   "cell_type": "code",
   "execution_count": null,
   "metadata": {
    "ExecuteTime": {
     "end_time": "2020-04-11T16:52:29.259930Z",
     "start_time": "2020-04-11T16:52:24.683439Z"
    }
   },
   "outputs": [],
   "source": [
    "\n",
    "tsne = TSNE(n_components=2)\n",
    "mnist_tsne_points = tsne.fit_transform(X_mnist)\n",
    "plt.scatter(mnist_tsne_points[:,0], mnist_tsne_points[:,1], c=y_mnist, cmap=plt.cm.get_cmap('Paired'))"
   ]
  },
  {
   "cell_type": "code",
   "execution_count": null,
   "metadata": {},
   "outputs": [],
   "source": []
  },
  {
   "cell_type": "code",
   "execution_count": null,
   "metadata": {
    "ExecuteTime": {
     "end_time": "2020-04-11T16:52:30.386959Z",
     "start_time": "2020-04-11T16:52:30.115212Z"
    }
   },
   "outputs": [],
   "source": [
    "import umap\n",
    "umap_ = umap.UMAP(n_components=2)\n",
    "mnist_umap_points = umap_.fit_transform(X_mnist)\n",
    "plt.scatter(mnist_umap_points[:,0], mnist_umap_points[:,1], c=y_mnist, cmap=plt.cm.get_cmap('Paired'))"
   ]
  },
  {
   "cell_type": "code",
   "execution_count": null,
   "metadata": {
    "ExecuteTime": {
     "end_time": "2020-04-11T16:52:36.764339Z",
     "start_time": "2020-04-11T16:52:32.189703Z"
    }
   },
   "outputs": [],
   "source": []
  },
  {
   "cell_type": "code",
   "execution_count": null,
   "metadata": {
    "ExecuteTime": {
     "end_time": "2020-04-11T16:52:39.708386Z",
     "start_time": "2020-04-11T16:52:37.648922Z"
    }
   },
   "outputs": [],
   "source": []
  },
  {
   "cell_type": "markdown",
   "metadata": {},
   "source": [
    "Fmnist"
   ]
  },
  {
   "cell_type": "code",
   "execution_count": null,
   "metadata": {
    "ExecuteTime": {
     "end_time": "2020-04-11T16:52:41.581493Z",
     "start_time": "2020-04-11T16:52:41.324811Z"
    }
   },
   "outputs": [],
   "source": [
    "tsne = TSNE(n_components=2)\n",
    "fmnist_tsne_points = tsne.fit_transform(X_fmnist)\n",
    "plt.scatter(fmnist_tsne_points[:,0], fmnist_tsne_points[:,1], c=y_fmnist, cmap=plt.cm.get_cmap('Paired'))"
   ]
  },
  {
   "cell_type": "markdown",
   "metadata": {
    "ExecuteTime": {
     "end_time": "2020-04-11T14:08:37.512198Z",
     "start_time": "2020-04-11T14:08:37.503923Z"
    }
   },
   "source": [
    "#### In order to compare the results of these three methods, calculate for each case the average distance between two points belonging to the same class divided by the average distance between points belonging to 2 different classes"
   ]
  },
  {
   "cell_type": "code",
   "execution_count": null,
   "metadata": {
    "ExecuteTime": {
     "end_time": "2020-04-11T16:52:44.743363Z",
     "start_time": "2020-04-11T16:52:44.739226Z"
    }
   },
   "outputs": [],
   "source": []
  },
  {
   "cell_type": "code",
   "execution_count": null,
   "metadata": {
    "ExecuteTime": {
     "end_time": "2020-04-11T16:53:01.719522Z",
     "start_time": "2020-04-11T16:52:47.553449Z"
    }
   },
   "outputs": [],
   "source": []
  }
 ],
 "metadata": {
  "kernelspec": {
   "display_name": "Python 3 (ipykernel)",
   "language": "python",
   "name": "python3"
  },
  "language_info": {
   "codemirror_mode": {
    "name": "ipython",
    "version": 3
   },
   "file_extension": ".py",
   "mimetype": "text/x-python",
   "name": "python",
   "nbconvert_exporter": "python",
   "pygments_lexer": "ipython3",
   "version": "3.9.13"
  },
  "varInspector": {
   "cols": {
    "lenName": 16,
    "lenType": 16,
    "lenVar": 40
   },
   "kernels_config": {
    "python": {
     "delete_cmd_postfix": "",
     "delete_cmd_prefix": "del ",
     "library": "var_list.py",
     "varRefreshCmd": "print(var_dic_list())"
    },
    "r": {
     "delete_cmd_postfix": ") ",
     "delete_cmd_prefix": "rm(",
     "library": "var_list.r",
     "varRefreshCmd": "cat(var_dic_list()) "
    }
   },
   "types_to_exclude": [
    "module",
    "function",
    "builtin_function_or_method",
    "instance",
    "_Feature"
   ],
   "window_display": false
  }
 },
 "nbformat": 4,
 "nbformat_minor": 2
}
